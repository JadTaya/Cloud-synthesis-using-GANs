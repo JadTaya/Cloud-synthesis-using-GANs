{
 "cells": [
  {
   "cell_type": "markdown",
   "metadata": {
    "id": "2ogST1STAIg9"
   },
   "source": [
    "\n"
   ]
  },
  {
   "cell_type": "code",
   "execution_count": 1,
   "metadata": {
    "colab": {
     "base_uri": "https://localhost:8080/"
    },
    "id": "mo5O1GCpAIhA",
    "outputId": "a4e5149e-ea59-46bf-cf6e-42e58ba80e8c"
   },
   "outputs": [],
   "source": [
    "from __future__ import print_function\n",
    "#%matplotlib inline\n",
    "import argparse\n",
    "import os\n",
    "import random\n",
    "import torch\n",
    "import torch.nn as nn\n",
    "from torch import autograd\n",
    "import torch.nn.parallel\n",
    "import torch.backends.cudnn as cudnn\n",
    "import torch.optim as optim\n",
    "import torch.utils.data\n",
    "import torchvision.datasets as dset\n",
    "import torchvision.transforms as transforms\n",
    "import torchvision.utils as vutils\n",
    "import numpy as np\n",
    "import matplotlib.pyplot as plt\n",
    "import matplotlib.animation as animation\n",
    "from IPython.display import HTML\n",
    "import time\n",
    "from scipy import io\n",
    "import scipy.stats as stats  "
   ]
  },
  {
   "cell_type": "code",
   "execution_count": 2,
   "metadata": {},
   "outputs": [],
   "source": [
    "from torch.utils.tensorboard import SummaryWriter"
   ]
  },
  {
   "cell_type": "markdown",
   "metadata": {},
   "source": [
    "Adding Turbo colormap into matplotlib"
   ]
  },
  {
   "cell_type": "code",
   "execution_count": 3,
   "metadata": {},
   "outputs": [],
   "source": [
    "# Copyright 2019 Google LLC.\n",
    "# SPDX-License-Identifier: Apache-2.0\n",
    "\n",
    "# Author: Anton Mikhailov\n",
    "\n",
    "turbo_colormap_data = [[0.18995,0.07176,0.23217],[0.19483,0.08339,0.26149],[0.19956,0.09498,0.29024],[0.20415,0.10652,0.31844],[0.20860,0.11802,0.34607],[0.21291,0.12947,0.37314],[0.21708,0.14087,0.39964],[0.22111,0.15223,0.42558],[0.22500,0.16354,0.45096],[0.22875,0.17481,0.47578],[0.23236,0.18603,0.50004],[0.23582,0.19720,0.52373],[0.23915,0.20833,0.54686],[0.24234,0.21941,0.56942],[0.24539,0.23044,0.59142],[0.24830,0.24143,0.61286],[0.25107,0.25237,0.63374],[0.25369,0.26327,0.65406],[0.25618,0.27412,0.67381],[0.25853,0.28492,0.69300],[0.26074,0.29568,0.71162],[0.26280,0.30639,0.72968],[0.26473,0.31706,0.74718],[0.26652,0.32768,0.76412],[0.26816,0.33825,0.78050],[0.26967,0.34878,0.79631],[0.27103,0.35926,0.81156],[0.27226,0.36970,0.82624],[0.27334,0.38008,0.84037],[0.27429,0.39043,0.85393],[0.27509,0.40072,0.86692],[0.27576,0.41097,0.87936],[0.27628,0.42118,0.89123],[0.27667,0.43134,0.90254],[0.27691,0.44145,0.91328],[0.27701,0.45152,0.92347],[0.27698,0.46153,0.93309],[0.27680,0.47151,0.94214],[0.27648,0.48144,0.95064],[0.27603,0.49132,0.95857],[0.27543,0.50115,0.96594],[0.27469,0.51094,0.97275],[0.27381,0.52069,0.97899],[0.27273,0.53040,0.98461],[0.27106,0.54015,0.98930],[0.26878,0.54995,0.99303],[0.26592,0.55979,0.99583],[0.26252,0.56967,0.99773],[0.25862,0.57958,0.99876],[0.25425,0.58950,0.99896],[0.24946,0.59943,0.99835],[0.24427,0.60937,0.99697],[0.23874,0.61931,0.99485],[0.23288,0.62923,0.99202],[0.22676,0.63913,0.98851],[0.22039,0.64901,0.98436],[0.21382,0.65886,0.97959],[0.20708,0.66866,0.97423],[0.20021,0.67842,0.96833],[0.19326,0.68812,0.96190],[0.18625,0.69775,0.95498],[0.17923,0.70732,0.94761],[0.17223,0.71680,0.93981],[0.16529,0.72620,0.93161],[0.15844,0.73551,0.92305],[0.15173,0.74472,0.91416],[0.14519,0.75381,0.90496],[0.13886,0.76279,0.89550],[0.13278,0.77165,0.88580],[0.12698,0.78037,0.87590],[0.12151,0.78896,0.86581],[0.11639,0.79740,0.85559],[0.11167,0.80569,0.84525],[0.10738,0.81381,0.83484],[0.10357,0.82177,0.82437],[0.10026,0.82955,0.81389],[0.09750,0.83714,0.80342],[0.09532,0.84455,0.79299],[0.09377,0.85175,0.78264],[0.09287,0.85875,0.77240],[0.09267,0.86554,0.76230],[0.09320,0.87211,0.75237],[0.09451,0.87844,0.74265],[0.09662,0.88454,0.73316],[0.09958,0.89040,0.72393],[0.10342,0.89600,0.71500],[0.10815,0.90142,0.70599],[0.11374,0.90673,0.69651],[0.12014,0.91193,0.68660],[0.12733,0.91701,0.67627],[0.13526,0.92197,0.66556],[0.14391,0.92680,0.65448],[0.15323,0.93151,0.64308],[0.16319,0.93609,0.63137],[0.17377,0.94053,0.61938],[0.18491,0.94484,0.60713],[0.19659,0.94901,0.59466],[0.20877,0.95304,0.58199],[0.22142,0.95692,0.56914],[0.23449,0.96065,0.55614],[0.24797,0.96423,0.54303],[0.26180,0.96765,0.52981],[0.27597,0.97092,0.51653],[0.29042,0.97403,0.50321],[0.30513,0.97697,0.48987],[0.32006,0.97974,0.47654],[0.33517,0.98234,0.46325],[0.35043,0.98477,0.45002],[0.36581,0.98702,0.43688],[0.38127,0.98909,0.42386],[0.39678,0.99098,0.41098],[0.41229,0.99268,0.39826],[0.42778,0.99419,0.38575],[0.44321,0.99551,0.37345],[0.45854,0.99663,0.36140],[0.47375,0.99755,0.34963],[0.48879,0.99828,0.33816],[0.50362,0.99879,0.32701],[0.51822,0.99910,0.31622],[0.53255,0.99919,0.30581],[0.54658,0.99907,0.29581],[0.56026,0.99873,0.28623],[0.57357,0.99817,0.27712],[0.58646,0.99739,0.26849],[0.59891,0.99638,0.26038],[0.61088,0.99514,0.25280],[0.62233,0.99366,0.24579],[0.63323,0.99195,0.23937],[0.64362,0.98999,0.23356],[0.65394,0.98775,0.22835],[0.66428,0.98524,0.22370],[0.67462,0.98246,0.21960],[0.68494,0.97941,0.21602],[0.69525,0.97610,0.21294],[0.70553,0.97255,0.21032],[0.71577,0.96875,0.20815],[0.72596,0.96470,0.20640],[0.73610,0.96043,0.20504],[0.74617,0.95593,0.20406],[0.75617,0.95121,0.20343],[0.76608,0.94627,0.20311],[0.77591,0.94113,0.20310],[0.78563,0.93579,0.20336],[0.79524,0.93025,0.20386],[0.80473,0.92452,0.20459],[0.81410,0.91861,0.20552],[0.82333,0.91253,0.20663],[0.83241,0.90627,0.20788],[0.84133,0.89986,0.20926],[0.85010,0.89328,0.21074],[0.85868,0.88655,0.21230],[0.86709,0.87968,0.21391],[0.87530,0.87267,0.21555],[0.88331,0.86553,0.21719],[0.89112,0.85826,0.21880],[0.89870,0.85087,0.22038],[0.90605,0.84337,0.22188],[0.91317,0.83576,0.22328],[0.92004,0.82806,0.22456],[0.92666,0.82025,0.22570],[0.93301,0.81236,0.22667],[0.93909,0.80439,0.22744],[0.94489,0.79634,0.22800],[0.95039,0.78823,0.22831],[0.95560,0.78005,0.22836],[0.96049,0.77181,0.22811],[0.96507,0.76352,0.22754],[0.96931,0.75519,0.22663],[0.97323,0.74682,0.22536],[0.97679,0.73842,0.22369],[0.98000,0.73000,0.22161],[0.98289,0.72140,0.21918],[0.98549,0.71250,0.21650],[0.98781,0.70330,0.21358],[0.98986,0.69382,0.21043],[0.99163,0.68408,0.20706],[0.99314,0.67408,0.20348],[0.99438,0.66386,0.19971],[0.99535,0.65341,0.19577],[0.99607,0.64277,0.19165],[0.99654,0.63193,0.18738],[0.99675,0.62093,0.18297],[0.99672,0.60977,0.17842],[0.99644,0.59846,0.17376],[0.99593,0.58703,0.16899],[0.99517,0.57549,0.16412],[0.99419,0.56386,0.15918],[0.99297,0.55214,0.15417],[0.99153,0.54036,0.14910],[0.98987,0.52854,0.14398],[0.98799,0.51667,0.13883],[0.98590,0.50479,0.13367],[0.98360,0.49291,0.12849],[0.98108,0.48104,0.12332],[0.97837,0.46920,0.11817],[0.97545,0.45740,0.11305],[0.97234,0.44565,0.10797],[0.96904,0.43399,0.10294],[0.96555,0.42241,0.09798],[0.96187,0.41093,0.09310],[0.95801,0.39958,0.08831],[0.95398,0.38836,0.08362],[0.94977,0.37729,0.07905],[0.94538,0.36638,0.07461],[0.94084,0.35566,0.07031],[0.93612,0.34513,0.06616],[0.93125,0.33482,0.06218],[0.92623,0.32473,0.05837],[0.92105,0.31489,0.05475],[0.91572,0.30530,0.05134],[0.91024,0.29599,0.04814],[0.90463,0.28696,0.04516],[0.89888,0.27824,0.04243],[0.89298,0.26981,0.03993],[0.88691,0.26152,0.03753],[0.88066,0.25334,0.03521],[0.87422,0.24526,0.03297],[0.86760,0.23730,0.03082],[0.86079,0.22945,0.02875],[0.85380,0.22170,0.02677],[0.84662,0.21407,0.02487],[0.83926,0.20654,0.02305],[0.83172,0.19912,0.02131],[0.82399,0.19182,0.01966],[0.81608,0.18462,0.01809],[0.80799,0.17753,0.01660],[0.79971,0.17055,0.01520],[0.79125,0.16368,0.01387],[0.78260,0.15693,0.01264],[0.77377,0.15028,0.01148],[0.76476,0.14374,0.01041],[0.75556,0.13731,0.00942],[0.74617,0.13098,0.00851],[0.73661,0.12477,0.00769],[0.72686,0.11867,0.00695],[0.71692,0.11268,0.00629],[0.70680,0.10680,0.00571],[0.69650,0.10102,0.00522],[0.68602,0.09536,0.00481],[0.67535,0.08980,0.00449],[0.66449,0.08436,0.00424],[0.65345,0.07902,0.00408],[0.64223,0.07380,0.00401],[0.63082,0.06868,0.00401],[0.61923,0.06367,0.00410],[0.60746,0.05878,0.00427],[0.59550,0.05399,0.00453],[0.58336,0.04931,0.00486],[0.57103,0.04474,0.00529],[0.55852,0.04028,0.00579],[0.54583,0.03593,0.00638],[0.53295,0.03169,0.00705],[0.51989,0.02756,0.00780],[0.50664,0.02354,0.00863],[0.49321,0.01963,0.00955],[0.47960,0.01583,0.01055]]\n",
    "\n",
    "# The look-up table contains 256 entries. Each entry is a floating point sRGB triplet.\n",
    "# To use it with matplotlib, pass cmap=ListedColormap(turbo_colormap_data) as an arg to imshow() (don't forget \"from matplotlib.colors import ListedColormap\").\n",
    "# If you have a typical 8-bit greyscale image, you can use the 8-bit value to index into this LUT directly.\n",
    "# The floating point color values can be converted to 8-bit sRGB via multiplying by 255 and casting/flooring to an integer. Saturation should not be required for IEEE-754 compliant arithmetic.\n",
    "# If you have a floating point value in the range [0,1], you can use interpolate() to linearly interpolate between the entries.\n",
    "# If you have 16-bit or 32-bit integer values, convert them to floating point values on the [0,1] range and then use interpolate(). Doing the interpolation in floating point will reduce banding.\n",
    "# If some of your values may lie outside the [0,1] range, use interpolate_or_clip() to highlight them.\n",
    "\n",
    "def interpolate(colormap, x):\n",
    "  x = max(0.0, min(1.0, x))\n",
    "  a = int(x*255.0)\n",
    "  b = min(255, a + 1)\n",
    "  f = x*255.0 - a\n",
    "  return [colormap[a][0] + (colormap[b][0] - colormap[a][0]) * f,\n",
    "          colormap[a][1] + (colormap[b][1] - colormap[a][1]) * f,\n",
    "          colormap[a][2] + (colormap[b][2] - colormap[a][2]) * f]\n",
    "\n",
    "def interpolate_or_clip(colormap, x):\n",
    "  if   x < 0.0: return [0.0, 0.0, 0.0]\n",
    "  elif x > 1.0: return [1.0, 1.0, 1.0]\n",
    "  else: return interpolate(colormap, x)"
   ]
  },
  {
   "cell_type": "code",
   "execution_count": 4,
   "metadata": {},
   "outputs": [],
   "source": [
    "import matplotlib.cm\n",
    "from matplotlib.colors import ListedColormap\n",
    "matplotlib.cm.register_cmap('turbo', cmap=ListedColormap(turbo_colormap_data))"
   ]
  },
  {
   "cell_type": "code",
   "execution_count": 5,
   "metadata": {},
   "outputs": [],
   "source": [
    "##ONLY RUN ONCE\n",
    "\n",
    "# loaded = io.loadmat('clouds/2D_zeroPadaed_clouds_orig.mat')\n",
    "# total_clouds = [value for key, value in loaded.items() if key.startswith(\"cloud_\")]\n",
    "# clouds = [cloud for cloud in total_clouds if (np.count_nonzero(cloud) > 200)] #remove clouds that are nearly empty\n",
    "# print(total_clouds[0].shape)\n",
    "# print(\"Number of total clouds: \" + str(len(total_clouds))) \n",
    "# print(\"Number of non-empty clouds: \" + str(len(clouds)))\n",
    "# tensor_clouds = torch.Tensor(clouds) # transform to torch tensor\n",
    "# tensor_clouds = tensor_clouds.unsqueeze(1)\n",
    "\n",
    "# # Create the dataset\n",
    "# dataset = torch.utils.data.TensorDataset(tensor_clouds)\n",
    "\n",
    "# train_size = int(0.9 * len(dataset))\n",
    "# test_size = len(dataset) - train_size\n",
    "# train_dataset, test_dataset = torch.utils.data.random_split(dataset, [train_size, test_size])\n",
    "# torch.save(train_dataset, os.path.join(os.getcwd() + '/dataset' , 'train.pt'))\n",
    "# torch.save(test_dataset, os.path.join(os.getcwd() + '/dataset' , 'test.pt'))"
   ]
  },
  {
   "cell_type": "code",
   "execution_count": 6,
   "metadata": {},
   "outputs": [],
   "source": [
    "# var_ten = torch.var(tensor_clouds)\n",
    "# mean_ten = torch.mean(tensor_clouds)\n",
    "# torch.min(tensor_clouds)\n",
    "# torch.max(tensor_clouds)\n",
    "\n",
    "# data_transforms = transforms.Compose([\n",
    "#         transforms.Normalize([mean_ten], [var_ten])\n",
    "#         ])\n",
    "\n",
    "# asdf = data_transforms(tensor_clouds)\n",
    "# torch.min(asdf)\n",
    "# torch.max(asdf)"
   ]
  },
  {
   "cell_type": "code",
   "execution_count": 7,
   "metadata": {
    "colab": {
     "base_uri": "https://localhost:8080/"
    },
    "id": "ioAC0jd2AIhI",
    "outputId": "8a0e8b86-2cae-4f78-bc84-3d7f4fc0706b"
   },
   "outputs": [
    {
     "name": "stdout",
     "output_type": "stream",
     "text": [
      "Random Seed:  999\n"
     ]
    },
    {
     "data": {
      "text/plain": [
       "<torch._C.Generator at 0x210aa32e490>"
      ]
     },
     "execution_count": 7,
     "metadata": {},
     "output_type": "execute_result"
    }
   ],
   "source": [
    "# Set random seed for reproducibility\n",
    "manualSeed = 999\n",
    "#manualSeed = random.randint(1, 10000) # use if you want new results\n",
    "print(\"Random Seed: \", manualSeed)\n",
    "random.seed(manualSeed)\n",
    "torch.manual_seed(manualSeed)"
   ]
  },
  {
   "cell_type": "code",
   "execution_count": 8,
   "metadata": {
    "id": "9DHlZ1bWAIhP"
   },
   "outputs": [],
   "source": [
    "# Number of workers for dataloader\n",
    "workers = 2\n",
    "\n",
    "# Batch size during training\n",
    "batch_size = 64\n",
    "\n",
    "# Number of channels in the training images. For color images this is 3\n",
    "nc = 1\n",
    "\n",
    "# Size of z latent vector (i.e. size of generator input)\n",
    "nz = 100\n",
    "\n",
    "# Number of training epochs\n",
    "num_epochs = 408\n",
    "\n",
    "# Learning rate for optimizers\n",
    "g_lr = 0.0001\n",
    "d_lr = 0.0001\n",
    "\n",
    "# Beta1 hyperparam for Adam optimizers (a larger number (up to 1) means we take more previous gradients into consideration)\n",
    "beta1 = 0.5\n",
    "\n",
    "# Number of GPUs available. Use 0 for CPU mode.\n",
    "ngpu = 1\n",
    "\n",
    "# Multiplier for the MSE error portion of the total generator error\n",
    "alpha = 1\n",
    "\n",
    "# From Wasserstein GAN (2017), the number of iterations we only update the Discriminator\n",
    "n_critic = 5\n",
    "LAMBDA = 10\n",
    "\n",
    "# Layer depth:\n",
    "Gdepth = [512, 256, 128, 64, 32]\n",
    "Ddepth = [16, 32, 64, 128, 256]"
   ]
  },
  {
   "cell_type": "code",
   "execution_count": 19,
   "metadata": {
    "colab": {
     "base_uri": "https://localhost:8080/",
     "height": 499
    },
    "id": "bszU46rKAIhU",
    "outputId": "b698dddc-849e-4521-c5e3-a7bf92f304d3"
   },
   "outputs": [
    {
     "name": "stdout",
     "output_type": "stream",
     "text": [
      "torch.Size([64, 1, 130, 80])\n"
     ]
    },
    {
     "data": {
      "image/png": "[encoded data removed]",
      "text/plain": [
       "<Figure size 1080x576 with 51 Axes>"
      ]
     },
     "metadata": {
      "needs_background": "light"
     },
     "output_type": "display_data"
    }
   ],
   "source": [
    "train_dataset = torch.load(os.path.join(os.getcwd() + '/dataset' , 'train.pt'))\n",
    "# Create the dataloader\n",
    "dataloader = torch.utils.data.DataLoader(train_dataset, shuffle=True, batch_size=batch_size,\n",
    "                                         num_workers=workers)\n",
    "# Decide which device we want to run on\n",
    "device = torch.device(\"cuda:0\" if (torch.cuda.is_available() and ngpu > 0) else \"cpu\")\n",
    "\n",
    "# Plot some training images\n",
    "real_batch = next(iter(dataloader))\n",
    "print(real_batch[0].shape)\n",
    "\n",
    "\n",
    "fig=plt.figure(figsize=(15, 8))\n",
    "plt.title(\"Training Images\")\n",
    "plt.axis(\"off\")\n",
    "columns = 5\n",
    "rows = 5\n",
    "\n",
    "for i in range(1, columns*rows +1):\n",
    "    img = np.squeeze(real_batch[0][i-1])\n",
    "    img = np.rot90(img)\n",
    "    fig.add_subplot(rows, columns, i)\n",
    "    plt.axis(\"off\")\n",
    "    a = plt.imshow(img, cmap='turbo', interpolation='nearest')\n",
    "    fig.colorbar(a)\n",
    "\n",
    "\n",
    "plt.show()\n",
    "fig.tight_layout()"
   ]
  },
  {
   "cell_type": "code",
   "execution_count": 10,
   "metadata": {
    "id": "uIr17qxpAIhZ"
   },
   "outputs": [],
   "source": [
    "# custom weights initialization called on netG and netD\n",
    "def weights_init(m):\n",
    "    classname = m.__class__.__name__\n",
    "    if classname.find('Conv') != -1:\n",
    "        #0.0, 0.02\n",
    "        nn.init.normal_(m.weight.data, 0.0, 0.02)\n",
    "    elif classname.find('BatchNorm') != -1:\n",
    "        nn.init.normal_(m.weight.data, 1.0, 0.02)\n",
    "        nn.init.constant_(m.bias.data, 0)"
   ]
  },
  {
   "cell_type": "code",
   "execution_count": 11,
   "metadata": {},
   "outputs": [
    {
     "name": "stdout",
     "output_type": "stream",
     "text": [
      "80\n"
     ]
    }
   ],
   "source": [
    "#calculating generator parameters for image width\n",
    "kernel = [3, 3, 4, 4, 4, 4]\n",
    "stride = [1, 2, 2, 2, 2, 2] \n",
    "pad = [0, 1, 1, 1, 1, 1]\n",
    "i = 0\n",
    "in_ = 1\n",
    "while i<6:\n",
    "    in_ = kernel[i] + (in_ -1)*stride[i] -2*pad[i]\n",
    "    i=i+1\n",
    "print(in_)"
   ]
  },
  {
   "cell_type": "code",
   "execution_count": 12,
   "metadata": {
    "id": "Le_Rq6maAIhe"
   },
   "outputs": [],
   "source": [
    "# Generator Code\n",
    "\n",
    "class Generator(nn.Module):\n",
    "    def __init__(self, ngpu):\n",
    "        super(Generator, self).__init__()\n",
    "        self.ngpu = ngpu\n",
    "        self.main = nn.Sequential(\n",
    "            # input is Z, going into a convolution\n",
    "            nn.ConvTranspose2d( nz, Gdepth[0], (4, 3), 1, (0,0), bias=False),\n",
    "            nn.BatchNorm2d(Gdepth[0]),\n",
    "            nn.ReLU(True),\n",
    "            # state size. (ngf*16) x 4 x 4\n",
    "            nn.ConvTranspose2d( Gdepth[0], Gdepth[1], (4, 3), 2, 1, bias=False),\n",
    "            nn.BatchNorm2d(Gdepth[1]),\n",
    "            nn.ReLU(True),\n",
    "            # state size. (ngf*8) x 8 x 8\n",
    "            nn.ConvTranspose2d(Gdepth[1], Gdepth[2], (4, 4), 2, 1, bias=False),\n",
    "            nn.BatchNorm2d(Gdepth[2]),\n",
    "            nn.ReLU(True),\n",
    "            # state size. (ngf*4) x 16 x 16\n",
    "            \n",
    "            nn.ConvTranspose2d(Gdepth[2], Gdepth[3], (4, 4), 2, 1, bias=False),\n",
    "            nn.BatchNorm2d(Gdepth[3]),\n",
    "            nn.ReLU(True),\n",
    "            # state size. (ngf*4) x 32 x 32\n",
    "            nn.ConvTranspose2d(Gdepth[3], Gdepth[4], (4, 4), 2, 1, bias=False),\n",
    "            nn.BatchNorm2d(Gdepth[4]),\n",
    "            nn.ReLU(True),\n",
    "            # state size. (ngf*4) x 64 x 64\n",
    "            nn.ConvTranspose2d( Gdepth[4] , nc, (4, 4), 2, (0, 1), bias=False),\n",
    "            nn.ReLU(),\n",
    "        )\n",
    "\n",
    "    def forward(self, input):\n",
    "        return self.main(input)"
   ]
  },
  {
   "cell_type": "code",
   "execution_count": 13,
   "metadata": {
    "colab": {
     "base_uri": "https://localhost:8080/"
    },
    "id": "sQxNE7dvAIhi",
    "outputId": "4d5c1b11-478f-4a1c-8d14-dd6a87c6736f"
   },
   "outputs": [
    {
     "name": "stdout",
     "output_type": "stream",
     "text": [
      "Generator(\n",
      "  (main): Sequential(\n",
      "    (0): ConvTranspose2d(100, 512, kernel_size=(4, 3), stride=(1, 1), bias=False)\n",
      "    (1): BatchNorm2d(512, eps=1e-05, momentum=0.1, affine=True, track_running_stats=True)\n",
      "    (2): ReLU(inplace=True)\n",
      "    (3): ConvTranspose2d(512, 256, kernel_size=(4, 3), stride=(2, 2), padding=(1, 1), bias=False)\n",
      "    (4): BatchNorm2d(256, eps=1e-05, momentum=0.1, affine=True, track_running_stats=True)\n",
      "    (5): ReLU(inplace=True)\n",
      "    (6): ConvTranspose2d(256, 128, kernel_size=(4, 4), stride=(2, 2), padding=(1, 1), bias=False)\n",
      "    (7): BatchNorm2d(128, eps=1e-05, momentum=0.1, affine=True, track_running_stats=True)\n",
      "    (8): ReLU(inplace=True)\n",
      "    (9): ConvTranspose2d(128, 64, kernel_size=(4, 4), stride=(2, 2), padding=(1, 1), bias=False)\n",
      "    (10): BatchNorm2d(64, eps=1e-05, momentum=0.1, affine=True, track_running_stats=True)\n",
      "    (11): ReLU(inplace=True)\n",
      "    (12): ConvTranspose2d(64, 32, kernel_size=(4, 4), stride=(2, 2), padding=(1, 1), bias=False)\n",
      "    (13): BatchNorm2d(32, eps=1e-05, momentum=0.1, affine=True, track_running_stats=True)\n",
      "    (14): ReLU(inplace=True)\n",
      "    (15): ConvTranspose2d(32, 1, kernel_size=(4, 4), stride=(2, 2), padding=(0, 1), bias=False)\n",
      "    (16): ReLU()\n",
      "  )\n",
      ")\n"
     ]
    }
   ],
   "source": [
    "netG = Generator(ngpu).to(device)\n",
    "\n",
    "# Handle multi-gpu if desired\n",
    "if (device.type == 'cuda') and (ngpu > 1):\n",
    "    netG = nn.DataParallel(netG, list(range(ngpu)))\n",
    "\n",
    "# Apply the weights_init function to randomly initialize all weights\n",
    "#  to mean=0, stdev=0.2.\n",
    "netG.apply(weights_init)\n",
    "\n",
    "# Print the model\n",
    "print(netG)"
   ]
  },
  {
   "cell_type": "code",
   "execution_count": 14,
   "metadata": {
    "id": "97Z4E0eYAIho"
   },
   "outputs": [],
   "source": [
    "class Discriminator(nn.Module):\n",
    "    def __init__(self, ngpu):\n",
    "        super(Discriminator, self).__init__()\n",
    "        self.ngpu = ngpu\n",
    "        self.main = nn.Sequential(\n",
    "            # input is  128 x 128\n",
    "            nn.Conv2d(nc, Ddepth[0], (4, 4), 2, (0, 1), bias=False),\n",
    "            nn.LeakyReLU(0.2, inplace=True),\n",
    "            # state size.  64 x 64\n",
    "            nn.Conv2d(Ddepth[0], Ddepth[1], 4, 2, 1, bias=False),\n",
    "            nn.LeakyReLU(0.2, inplace=True),\n",
    "            # input is  32 x 32\n",
    "            nn.Conv2d(Ddepth[1], Ddepth[2], 4, 2, 1, bias=False),\n",
    "            nn.LeakyReLU(0.2, inplace=True),\n",
    "            # state size.  16 x 16\n",
    "            nn.Conv2d(Ddepth[2], Ddepth[3], 4, 2, 1, bias=False),\n",
    "            nn.LeakyReLU(0.2, inplace=True),\n",
    "            # state size.  8 x 8\n",
    "            nn.Conv2d(Ddepth[3], Ddepth[4], (4, 3), 2, 1, bias=False),\n",
    "            nn.LeakyReLU(0.2, inplace=True),\n",
    "            # state size.  4 x 4\n",
    "            nn.Conv2d(Ddepth[4], 1, (4, 3), 1, (0,0), bias=False),\n",
    "            nn.LeakyReLU(0.2, inplace=True),\n",
    "        )\n",
    "\n",
    "    def forward(self, input):\n",
    "        return self.main(input)"
   ]
  },
  {
   "cell_type": "code",
   "execution_count": 15,
   "metadata": {
    "colab": {
     "base_uri": "https://localhost:8080/"
    },
    "id": "s-xvkYkTAIht",
    "outputId": "fc72e959-6405-493f-92c3-e7577a079a8a"
   },
   "outputs": [
    {
     "name": "stdout",
     "output_type": "stream",
     "text": [
      "Discriminator(\n",
      "  (main): Sequential(\n",
      "    (0): Conv2d(1, 16, kernel_size=(4, 4), stride=(2, 2), padding=(0, 1), bias=False)\n",
      "    (1): LeakyReLU(negative_slope=0.2, inplace=True)\n",
      "    (2): Conv2d(16, 32, kernel_size=(4, 4), stride=(2, 2), padding=(1, 1), bias=False)\n",
      "    (3): LeakyReLU(negative_slope=0.2, inplace=True)\n",
      "    (4): Conv2d(32, 64, kernel_size=(4, 4), stride=(2, 2), padding=(1, 1), bias=False)\n",
      "    (5): LeakyReLU(negative_slope=0.2, inplace=True)\n",
      "    (6): Conv2d(64, 128, kernel_size=(4, 4), stride=(2, 2), padding=(1, 1), bias=False)\n",
      "    (7): LeakyReLU(negative_slope=0.2, inplace=True)\n",
      "    (8): Conv2d(128, 256, kernel_size=(4, 3), stride=(2, 2), padding=(1, 1), bias=False)\n",
      "    (9): LeakyReLU(negative_slope=0.2, inplace=True)\n",
      "    (10): Conv2d(256, 1, kernel_size=(4, 3), stride=(1, 1), bias=False)\n",
      "    (11): LeakyReLU(negative_slope=0.2, inplace=True)\n",
      "  )\n",
      ")\n"
     ]
    }
   ],
   "source": [
    "# Create the Discriminator\n",
    "netD = Discriminator(ngpu).to(device)\n",
    "\n",
    "# Handle multi-gpu if desired\n",
    "if (device.type == 'cuda') and (ngpu > 1):\n",
    "    netD = nn.DataParallel(netD, list(range(ngpu)))\n",
    "\n",
    "# Apply the weights_init function to randomly initialize all weights\n",
    "#  to mean=0, stdev=0.2.\n",
    "netD.apply(weights_init)\n",
    "\n",
    "# Print the model\n",
    "print(netD)"
   ]
  },
  {
   "cell_type": "code",
   "execution_count": 16,
   "metadata": {
    "id": "PmS5cqz3AIhw"
   },
   "outputs": [
    {
     "name": "stdout",
     "output_type": "stream",
     "text": [
      "Generator parameter count: 2,877,888\n",
      "Discriminator parameter count: 568,576\n"
     ]
    }
   ],
   "source": [
    "# extra_criteron =  nn.MSELoss()\n",
    "# MSE_weight = 20\n",
    "# Create batch of latent vectors that we will use to visualize\n",
    "#  the progression of the generator\n",
    "fixed_noise = torch.randn(batch_size, nz, 1, 1, device=device)\n",
    "\n",
    "\n",
    "# Setup Adam optimizers for both G and D\n",
    "optimizerD = optim.Adam(netD.parameters(), lr=d_lr, betas=(beta1, 0.9))\n",
    "optimizerG = optim.Adam(netG.parameters(), lr=g_lr, betas=(beta1, 0.9))\n",
    "\n",
    "\n",
    "halves = fixed_noise[0:1].clone()\n",
    "for i in range(nz):\n",
    "  halves[0][i] = 0.5\n",
    "\n",
    "#calculate the number of parameters in the models\n",
    "def count_parameters(model):\n",
    "    return sum(p.numel() for p in model.parameters() if p.requires_grad)\n",
    "\n",
    "print('Generator parameter count: ' + str(f'{count_parameters(netG):,}'))\n",
    "print('Discriminator parameter count: ' + str(f'{count_parameters(netD):,}'))"
   ]
  },
  {
   "cell_type": "code",
   "execution_count": 17,
   "metadata": {},
   "outputs": [],
   "source": [
    "def calc_gradient_penalty(netD, real_data, fake_data):\n",
    "    # print \"real_data: \", real_data.size(), fake_data.size()\n",
    "    alpha_g = torch.rand(real_data.size(0), 1, 1 ,1)\n",
    "    alpha_g = alpha_g.expand_as(real_data)\n",
    "    alpha_g = alpha_g.to(device)\n",
    "\n",
    "    interpolates = alpha_g * real_data + ((1 - alpha_g) * fake_data)\n",
    "\n",
    "    \n",
    "    interpolates = interpolates.to(device)\n",
    "    interpolates = autograd.Variable(interpolates, requires_grad=True)\n",
    "\n",
    "    disc_interpolates = netD(interpolates)\n",
    "\n",
    "    gradients = autograd.grad(outputs=disc_interpolates, inputs=interpolates,\n",
    "                              grad_outputs=torch.ones(disc_interpolates.size()).to(device),\n",
    "                              create_graph=True, retain_graph=True, only_inputs=True)[0]\n",
    "    gradients = gradients.view(gradients.size(0), -1)\n",
    "\n",
    "    gradient_penalty = ((gradients.norm(2, dim=1) - 1) ** 2).mean() * LAMBDA\n",
    "    return gradient_penalty\n"
   ]
  },
  {
   "cell_type": "code",
   "execution_count": 18,
   "metadata": {
    "colab": {
     "base_uri": "https://localhost:8080/"
    },
    "id": "b6K1cYq6AIhz",
    "outputId": "1457df28-2fcb-4934-de62-b4d9003c83ab"
   },
   "outputs": [
    {
     "ename": "FileExistsError",
     "evalue": "[WinError 183] Cannot create a file when that file already exists: 'C:\\\\Users\\\\jadht\\\\OneDrive - Technion\\\\GAN_project\\\\v2DCGAN/results&models/Gdepth=[512, 256, 128, 64, 32] Ddepth=[16, 32, 64, 128, 256] batch_size=64 epochs=408 g_lr=0.0001 d_lr=0.0001'",
     "output_type": "error",
     "traceback": [
      "\u001b[1;31m---------------------------------------------------------------------------\u001b[0m",
      "\u001b[1;31mFileExistsError\u001b[0m                           Traceback (most recent call last)",
      "\u001b[1;32m<ipython-input-18-a78b2d7bb931>\u001b[0m in \u001b[0;36m<module>\u001b[1;34m\u001b[0m\n\u001b[0;32m     20\u001b[0m \u001b[0mpf\u001b[0m \u001b[1;33m=\u001b[0m \u001b[1;36m0\u001b[0m\u001b[1;33m\u001b[0m\u001b[1;33m\u001b[0m\u001b[0m\n\u001b[0;32m     21\u001b[0m \u001b[1;33m\u001b[0m\u001b[0m\n\u001b[1;32m---> 22\u001b[1;33m \u001b[0mos\u001b[0m\u001b[1;33m.\u001b[0m\u001b[0mmakedirs\u001b[0m\u001b[1;33m(\u001b[0m\u001b[0mos\u001b[0m\u001b[1;33m.\u001b[0m\u001b[0mgetcwd\u001b[0m\u001b[1;33m(\u001b[0m\u001b[1;33m)\u001b[0m \u001b[1;33m+\u001b[0m \u001b[1;34m'/results&models'\u001b[0m \u001b[1;33m+\u001b[0m \u001b[0mdir_name\u001b[0m\u001b[1;33m)\u001b[0m\u001b[1;33m\u001b[0m\u001b[1;33m\u001b[0m\u001b[0m\n\u001b[0m\u001b[0;32m     23\u001b[0m \u001b[0mos\u001b[0m\u001b[1;33m.\u001b[0m\u001b[0mmakedirs\u001b[0m\u001b[1;33m(\u001b[0m\u001b[0mos\u001b[0m\u001b[1;33m.\u001b[0m\u001b[0mgetcwd\u001b[0m\u001b[1;33m(\u001b[0m\u001b[1;33m)\u001b[0m \u001b[1;33m+\u001b[0m \u001b[1;34m'/results&models'\u001b[0m \u001b[1;33m+\u001b[0m \u001b[0mdir_name\u001b[0m \u001b[1;33m+\u001b[0m \u001b[1;34m'/results'\u001b[0m\u001b[1;33m)\u001b[0m\u001b[1;33m\u001b[0m\u001b[1;33m\u001b[0m\u001b[0m\n\u001b[0;32m     24\u001b[0m \u001b[0mos\u001b[0m\u001b[1;33m.\u001b[0m\u001b[0mmakedirs\u001b[0m\u001b[1;33m(\u001b[0m\u001b[0mos\u001b[0m\u001b[1;33m.\u001b[0m\u001b[0mgetcwd\u001b[0m\u001b[1;33m(\u001b[0m\u001b[1;33m)\u001b[0m \u001b[1;33m+\u001b[0m \u001b[1;34m'/results&models'\u001b[0m \u001b[1;33m+\u001b[0m \u001b[0mdir_name\u001b[0m \u001b[1;33m+\u001b[0m \u001b[1;34m'/models'\u001b[0m\u001b[1;33m)\u001b[0m\u001b[1;33m\u001b[0m\u001b[1;33m\u001b[0m\u001b[0m\n",
      "\u001b[1;32m~\\anaconda3\\lib\\os.py\u001b[0m in \u001b[0;36mmakedirs\u001b[1;34m(name, mode, exist_ok)\u001b[0m\n\u001b[0;32m    221\u001b[0m             \u001b[1;32mreturn\u001b[0m\u001b[1;33m\u001b[0m\u001b[1;33m\u001b[0m\u001b[0m\n\u001b[0;32m    222\u001b[0m     \u001b[1;32mtry\u001b[0m\u001b[1;33m:\u001b[0m\u001b[1;33m\u001b[0m\u001b[1;33m\u001b[0m\u001b[0m\n\u001b[1;32m--> 223\u001b[1;33m         \u001b[0mmkdir\u001b[0m\u001b[1;33m(\u001b[0m\u001b[0mname\u001b[0m\u001b[1;33m,\u001b[0m \u001b[0mmode\u001b[0m\u001b[1;33m)\u001b[0m\u001b[1;33m\u001b[0m\u001b[1;33m\u001b[0m\u001b[0m\n\u001b[0m\u001b[0;32m    224\u001b[0m     \u001b[1;32mexcept\u001b[0m \u001b[0mOSError\u001b[0m\u001b[1;33m:\u001b[0m\u001b[1;33m\u001b[0m\u001b[1;33m\u001b[0m\u001b[0m\n\u001b[0;32m    225\u001b[0m         \u001b[1;31m# Cannot rely on checking for EEXIST, since the operating system\u001b[0m\u001b[1;33m\u001b[0m\u001b[1;33m\u001b[0m\u001b[1;33m\u001b[0m\u001b[0m\n",
      "\u001b[1;31mFileExistsError\u001b[0m: [WinError 183] Cannot create a file when that file already exists: 'C:\\\\Users\\\\jadht\\\\OneDrive - Technion\\\\GAN_project\\\\v2DCGAN/results&models/Gdepth=[512, 256, 128, 64, 32] Ddepth=[16, 32, 64, 128, 256] batch_size=64 epochs=408 g_lr=0.0001 d_lr=0.0001'"
     ]
    }
   ],
   "source": [
    "# Training Loop\n",
    "C_NONZERO = 20000\n",
    "train_alpha, train_loc, train_beta  = io.loadmat('non_zero_train_gamma.mat')['non_zero_train_gamma'][0]\n",
    "non_zero_train_prob = torch.distributions.gamma.Gamma(train_alpha, 1/train_beta, validate_args=None)\n",
    "\n",
    "dir_name = f'/Gdepth={Gdepth} Ddepth={Ddepth} batch_size={batch_size} epochs={num_epochs} g_lr={g_lr} d_lr={d_lr}'  \n",
    "\n",
    "#TENSORBOARD\n",
    "tb = SummaryWriter(f'runs/Gdepth={Gdepth} Ddepth={Ddepth} batch_size={batch_size} epochs={num_epochs} g_lr={g_lr} d_lr={d_lr}')\n",
    "\n",
    "#Test clouds beta probability distribution for KL-Divergence\n",
    "test_alpha, test_loc, test_beta  = io.loadmat('gamma_test.mat')['gamma_para'][0]\n",
    "test_prob = torch.distributions.gamma.Gamma(test_alpha, test_beta, validate_args=None)\n",
    "\n",
    "_,_,train_min, train_max  = io.loadmat('train_para.mat')['train_para'][0]       \n",
    "        \n",
    "# Lists to keep track of progress\n",
    "img_list = []\n",
    "iters = 0\n",
    "pf = 0\n",
    "\n",
    "os.makedirs(os.getcwd() + '/results&models' + dir_name)\n",
    "os.makedirs(os.getcwd() + '/results&models' + dir_name + '/results')\n",
    "os.makedirs(os.getcwd() + '/results&models' + dir_name + '/models')\n",
    "print(\"Starting Training Loop...\")\n",
    "\n",
    "one = torch.tensor(1, dtype=torch.float)\n",
    "mone = one * -1\n",
    "# For each epoch\n",
    "for epoch in range(num_epochs):\n",
    "    # For each batch in the dataloader\n",
    "    for i, data in enumerate(dataloader, 0):\n",
    "        \n",
    "        for para in netD.parameters():  # reset requires_grad\n",
    "            para.requires_grad = True  # they are set to False below in netG update\n",
    "            \n",
    "        for i_n_c in range(n_critic):\n",
    "            real_cpu = data[0].to(device)\n",
    "            b_size = real_cpu.size(0)\n",
    "            netD.zero_grad()\n",
    "\n",
    "            real_data_v = autograd.Variable(real_cpu)\n",
    "\n",
    "            D_real = netD(real_data_v)\n",
    "            D_real = D_real.mean()\n",
    "            D_real.backward(mone)\n",
    "\n",
    "            # train with fake\n",
    "            noise = torch.randn(b_size, nz, 1, 1, device=device)\n",
    "            with torch.no_grad():\n",
    "                noisev = autograd.Variable(noise)  # totally freeze netG\n",
    "            fake = autograd.Variable(netG(noisev).data)\n",
    "            inputv = fake\n",
    "            D_fake = netD(inputv)\n",
    "            D_fake = D_fake.mean()\n",
    "            D_fake.backward(one)\n",
    "\n",
    "            # train with gradient penalty\n",
    "            gradient_penalty = calc_gradient_penalty(netD, real_data_v.data, fake.data)\n",
    "            gradient_penalty.backward()\n",
    "\n",
    "            # print \"gradien_penalty: \", gradient_penalty\n",
    "\n",
    "            D_cost = D_fake - D_real + gradient_penalty \n",
    "            # Wasserstein_D = D_real - D_fake\n",
    "            optimizerD.step()\n",
    "        ############################\n",
    "        # (2) Update G network\n",
    "        ###########################\n",
    "        for p in netD.parameters():\n",
    "            p.requires_grad = False  # to avoid computation\n",
    "        netG.zero_grad()\n",
    "        \n",
    "        noise = torch.randn(b_size, nz, 1, 1, device=device)\n",
    "        noisev = autograd.Variable(noise)\n",
    "        fake = netG(noisev)\n",
    "        G = netD(fake)\n",
    "        G = G.mean()\n",
    "        \n",
    "        #Non-zero penalty\n",
    "        non_zero_count_fake = [] \n",
    "        for f in fake:\n",
    "            nonz_count = torch.count_nonzero(f)\n",
    "            if nonz_count < 201:\n",
    "                non_zero_count_fake.append(one)\n",
    "            elif nonz_count > 2563:\n",
    "                non_zero_count_fake.append(one)\n",
    "            else :\n",
    "                non_zero_count_fake.append(0.2-torch.exp(torch.distributions.gamma.Gamma.log_prob(non_zero_train_prob,nonz_count-200.0999999)))\n",
    "        non_zero_count_fake = torch.stack(non_zero_count_fake).cpu()\n",
    "        nonzero_loss = torch.mean(non_zero_count_fake)*C_NONZERO\n",
    "        tb.add_scalar('nonzero_loss', nonzero_loss, epoch)\n",
    "\n",
    "        G = G - nonzero_loss\n",
    "        G.backward(mone)\n",
    "        \n",
    "        G_cost = -G\n",
    "        optimizerG.step()\n",
    "        \n",
    "        # Output training stats\n",
    "        print('[%d/%d][%d/%d]\\tLoss_D: %.4f\\tLoss_G: %.4f\\t'\n",
    "              % (epoch, num_epochs, i, len(dataloader),\n",
    "                 D_cost.item(), G_cost.item()), end=\"\\r\", flush=True)\n",
    "    \n",
    "\n",
    "        # Check how the generator is doing by saving G's output on fixed_noise\n",
    "        if i == 0:\n",
    "            with torch.no_grad():\n",
    "                fake = netG(fixed_noise).detach().cpu()     \n",
    "            #save images for the output of the generator\n",
    "            #plot results with colorbar\n",
    "            #Show images\n",
    "            fig=plt.figure(figsize=(15, 8))\n",
    "            plt.axis(\"off\")\n",
    "            columns = 5\n",
    "            rows = 5\n",
    "\n",
    "            for ir in range(1, columns*rows +1):\n",
    "                img = np.squeeze(fake[ir-1])\n",
    "                img = np.rot90(img)\n",
    "                fig.add_subplot(rows, columns, ir)\n",
    "                plt.axis(\"off\")\n",
    "                a = plt.imshow(img, cmap='turbo', interpolation='nearest')\n",
    "                fig.colorbar(a)\n",
    "\n",
    "            fig.tight_layout()\n",
    "            fig.savefig(os.getcwd() + '/results&models' + dir_name + '/results' +'/result' + str(pf)  +'.png')   # save the figure to file\n",
    "            plt.close(fig)     \n",
    "            torch.save(netG.state_dict(), os.path.join(os.getcwd() + '/results&models' + dir_name + '/models', 'G-{}.pt'.format(pf)))\n",
    "            torch.save(netD.state_dict(), os.path.join(os.getcwd() + '/results&models' + dir_name + '/models', 'D-{}.pt'.format(pf)))\n",
    "            pf = pf +1\n",
    "    \n",
    "        iters += 1\n",
    "#     #print('real acc '+str(fake_acc))\n",
    "#     tb.add_scalar('Loss_D', -1*D_cost.item(), epoch)\n",
    "#     tb.add_scalar('Loss_G', -1*G_cost.item(), epoch)\n",
    "#     tb.add_scalar('critic_score_real', D_real.item(), epoch)\n",
    "#     tb.add_scalar('critic_score_fake', D_fake.item(), epoch)\n",
    "    \n",
    "    \n",
    "tb.close()"
   ]
  },
  {
   "cell_type": "code",
   "execution_count": null,
   "metadata": {},
   "outputs": [],
   "source": [
    "dir_name = f'/alpha={alpha} beta={beta1} batch_size={batch_size} epochs={num_epochs} g_lr={g_lr} d_lr={d_lr} ngf={ngf} ndf={ndf}' \n",
    "os.listdir(os.getcwd()+ '/results&models'+ dir_name)"
   ]
  }
 ],
 "metadata": {
  "accelerator": "GPU",
  "colab": {
   "collapsed_sections": [],
   "name": "dcgan_horizontal_flip.ipynb",
   "provenance": []
  },
  "kernelspec": {
   "display_name": "Python 3",
   "language": "python",
   "name": "python3"
  },
  "language_info": {
   "codemirror_mode": {
    "name": "ipython",
    "version": 3
   },
   "file_extension": ".py",
   "mimetype": "text/x-python",
   "name": "python",
   "nbconvert_exporter": "python",
   "pygments_lexer": "ipython3",
   "version": "3.8.5"
  }
 },
 "nbformat": 4,
 "nbformat_minor": 4
}
